{
 "cells": [
  {
   "cell_type": "code",
   "execution_count": 1,
   "id": "48f33e1c-26de-400e-8ccf-bafb5d951781",
   "metadata": {},
   "outputs": [],
   "source": [
    "num_customers = [137, 147, 135, 128, 170, 174, 165, 146, 126, 159,\n",
    "                 141, 148, 132, 147, 168, 153, 170, 161, 148, 152,\n",
    "                 141, 151, 131, 149, 164, 163, 143, 143, 166, 171]"
   ]
  },
  {
   "cell_type": "code",
   "execution_count": 17,
   "id": "7f77f1d3-8931-4292-af63-9363310e7291",
   "metadata": {},
   "outputs": [],
   "source": [
    "my_len = ((len)(num_customers[:7]))"
   ]
  },
  {
   "cell_type": "code",
   "execution_count": 10,
   "id": "274ee5b6-7a2a-4956-b5a7-ed671a9b650a",
   "metadata": {},
   "outputs": [
    {
     "name": "stdout",
     "output_type": "stream",
     "text": [
      "30\n"
     ]
    }
   ],
   "source": [
    "print(my_len)"
   ]
  },
  {
   "cell_type": "code",
   "execution_count": 19,
   "id": "1fd5a767-649a-43ce-9b17-c2af284f782c",
   "metadata": {},
   "outputs": [
    {
     "name": "stdout",
     "output_type": "stream",
     "text": [
      "157.0\n"
     ]
    }
   ],
   "source": [
    "avg_first_seven = sum(num_customers[-7:]) / len(num_customers[-7:])\n",
    "print(avg_first_seven)"
   ]
  },
  {
   "cell_type": "code",
   "execution_count": 33,
   "id": "86065daa-24a9-4b38-ade1-f890421c4ab2",
   "metadata": {},
   "outputs": [
    {
     "name": "stdout",
     "output_type": "stream",
     "text": [
      "150.85714285714286\n",
      "157.0\n",
      "174\n",
      "126\n"
     ]
    }
   ],
   "source": [
    "avg_first_seven = avg_first_seven = sum(num_customers[:7]) / len(num_customers[:7])\n",
    "print(avg_first_seven)\n",
    " \n",
    "\n",
    "avg_last_seven = avg_last_seven = sum(num_customers[-7:]) / len(num_customers[-7:])\n",
    "print(avg_last_seven)\n",
    "\n",
    "      \n",
    "max_month = max(num_customers)\n",
    "print(max_month)\n",
    "min_month = min(num_customers)\n",
    "print(min_month)"
   ]
  },
  {
   "cell_type": "code",
   "execution_count": null,
   "id": "ae168b09-f80d-4e64-b36a-1a5de7cddb5b",
   "metadata": {},
   "outputs": [],
   "source": []
  }
 ],
 "metadata": {
  "kernelspec": {
   "display_name": "Python 3 (ipykernel)",
   "language": "python",
   "name": "python3"
  },
  "language_info": {
   "codemirror_mode": {
    "name": "ipython",
    "version": 3
   },
   "file_extension": ".py",
   "mimetype": "text/x-python",
   "name": "python",
   "nbconvert_exporter": "python",
   "pygments_lexer": "ipython3",
   "version": "3.12.0"
  }
 },
 "nbformat": 4,
 "nbformat_minor": 5
}
